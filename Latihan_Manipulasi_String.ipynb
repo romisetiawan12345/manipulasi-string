{
  "nbformat": 4,
  "nbformat_minor": 0,
  "metadata": {
    "colab": {
      "provenance": [],
      "include_colab_link": true
    },
    "kernelspec": {
      "name": "python3",
      "display_name": "Python 3"
    },
    "language_info": {
      "name": "python"
    }
  },
  "cells": [
    {
      "cell_type": "markdown",
      "metadata": {
        "id": "view-in-github",
        "colab_type": "text"
      },
      "source": [
        "<a href=\"https://colab.research.google.com/github/romisetiawan12345/manipulasi-string/blob/main/Latihan_Manipulasi_String.ipynb\" target=\"_parent\"><img src=\"https://colab.research.google.com/assets/colab-badge.svg\" alt=\"Open In Colab\"/></a>"
      ]
    },
    {
      "cell_type": "markdown",
      "source": [
        "# **String**"
      ],
      "metadata": {
        "id": "oQTkVF1XUye0"
      }
    },
    {
      "cell_type": "code",
      "execution_count": 3,
      "metadata": {
        "id": "04B8u1HsUUkm"
      },
      "outputs": [],
      "source": [
        "nama = 'Wahid Abdulloh'\n",
        "\n",
        "asal = \"Indonesia\""
      ]
    },
    {
      "cell_type": "markdown",
      "source": [
        "# **Escape Characters**"
      ],
      "metadata": {
        "id": "P6UNtemdU2g-"
      }
    },
    {
      "cell_type": "markdown",
      "source": [
        "Dia berkata: \"Pergilah!\"\n",
        "\n",
        "Aku menimpali: \"Apakah kau ingin aku 'angkat kaki'?!\"\n",
        "\n",
        "Atau menampilkan karakter \\(^_^ \\) (/ -_-/)"
      ],
      "metadata": {
        "id": "AoGZ3paGVDXA"
      }
    },
    {
      "cell_type": "code",
      "source": [
        "print('Dia berkata: \"Pergilah!\"')"
      ],
      "metadata": {
        "colab": {
          "base_uri": "https://localhost:8080/"
        },
        "id": "5zSXFYdBUskU",
        "outputId": "ff9ec487-cc8b-4f97-8e29-0818b212f205"
      },
      "execution_count": 4,
      "outputs": [
        {
          "output_type": "stream",
          "name": "stdout",
          "text": [
            "Dia berkata: \"Pergilah!\"\n"
          ]
        }
      ]
    },
    {
      "cell_type": "markdown",
      "source": [
        "Solusi: Mengkombinasikan tanda petik satu ('') dan tanda petik dua (\"\")"
      ],
      "metadata": {
        "id": "qRG1yM1aVW-k"
      }
    },
    {
      "cell_type": "code",
      "source": [
        "print('Dia berkata: \"Pergilah!\"')"
      ],
      "metadata": {
        "colab": {
          "base_uri": "https://localhost:8080/"
        },
        "id": "FBGYf_8kVLeV",
        "outputId": "46617d7c-3221-402d-8e78-8b79040f6a45"
      },
      "execution_count": 5,
      "outputs": [
        {
          "output_type": "stream",
          "name": "stdout",
          "text": [
            "Dia berkata: \"Pergilah!\"\n"
          ]
        }
      ]
    },
    {
      "cell_type": "markdown",
      "source": [
        "Solusi lain: Karena di dalam string tersebut, baik tanda petik tunggal maupun tanda petik ganda sama-sama ditampilkan, maka solusinya adalah: escape string dengan backslash (\\)!"
      ],
      "metadata": {
        "id": "LpK0p1WQVrgy"
      }
    },
    {
      "cell_type": "code",
      "source": [
        "# menggunakan petik satu\n",
        "\n",
        "print('Aku menimpali: \"Apakah kau ingin aku \\'angkat kaki\\'?!\"')\n",
        "\n",
        "\n",
        "\n",
        "# menggunakan petik dua\n",
        "\n",
        "print(\"Aku menimpali: \\\"Apakah kau ingin aku 'angkat kaki'?!\\\"\")"
      ],
      "metadata": {
        "colab": {
          "base_uri": "https://localhost:8080/"
        },
        "id": "6aOCS3hgVrO1",
        "outputId": "15f31dce-4200-43db-9645-f941d8b1d9bf"
      },
      "execution_count": 6,
      "outputs": [
        {
          "output_type": "stream",
          "name": "stdout",
          "text": [
            "Aku menimpali: \"Apakah kau ingin aku 'angkat kaki'?!\"\n",
            "Aku menimpali: \"Apakah kau ingin aku 'angkat kaki'?!\"\n"
          ]
        }
      ]
    },
    {
      "cell_type": "markdown",
      "source": [
        "Dua backslash di bawah ini akan menjadi satu saja!"
      ],
      "metadata": {
        "id": "xKOuGFr9W9km"
      }
    },
    {
      "cell_type": "code",
      "source": [
        "print('\\\\(^_^ \\) (/ -_-/)')"
      ],
      "metadata": {
        "colab": {
          "base_uri": "https://localhost:8080/"
        },
        "id": "T_hifc29V0sY",
        "outputId": "be551768-3004-4594-e930-7c3ff49f9a7e"
      },
      "execution_count": 7,
      "outputs": [
        {
          "output_type": "stream",
          "name": "stdout",
          "text": [
            "\\(^_^ \\) (/ -_-/)\n"
          ]
        }
      ]
    },
    {
      "cell_type": "markdown",
      "source": [
        "# **Operator in pada String**\n",
        "\n",
        "Operator keanggotan in berfungsi untuk mencari tahu apakah suatu karakter / kata terdapat pada sebuah string"
      ],
      "metadata": {
        "id": "wfdNJ7TWXGhA"
      }
    },
    {
      "cell_type": "code",
      "source": [
        "berita = 'bagos mencri uang'\n",
        "\n",
        "print('menangkap'in berita) # output: True\n",
        "\n",
        "print('maling'in berita) # output: False"
      ],
      "metadata": {
        "id": "E5_1WMgMXLBz",
        "colab": {
          "base_uri": "https://localhost:8080/"
        },
        "outputId": "a5140b1f-951a-4ca6-a403-5261a248053c"
      },
      "execution_count": 8,
      "outputs": [
        {
          "output_type": "stream",
          "name": "stdout",
          "text": [
            "False\n",
            "False\n"
          ]
        }
      ]
    },
    {
      "cell_type": "markdown",
      "source": [
        "# **Memotong String**\n",
        "\n",
        "\n",
        "**Indexing String**\n",
        "\n",
        "Indeks dimulai dari 0 (ujung kiri ke kanan).\n",
        "\n",
        "Indeks negatif dimulai dari -1 yang dihitung dari karakter paling kanan ke paling kiri."
      ],
      "metadata": {
        "id": "7gExG4EDX8RD"
      }
    },
    {
      "cell_type": "code",
      "source": [
        "nama = 'supri'\n",
        "\n",
        "print(nama[4])\n"
      ],
      "metadata": {
        "id": "z-A3a67KYBcl",
        "colab": {
          "base_uri": "https://localhost:8080/"
        },
        "outputId": "a944acb1-69b1-40fe-ee81-694f4368e78b"
      },
      "execution_count": 9,
      "outputs": [
        {
          "output_type": "stream",
          "name": "stdout",
          "text": [
            "i\n"
          ]
        }
      ]
    },
    {
      "cell_type": "markdown",
      "source": [
        "**Slicing String**\n",
        "\n",
        "Untuk melakukan slicing atau pemotongan string, kita bisa menggunakan range of index yang diapit oleh dua kurung siku ([]) dan dipisahkan oleh tanda titik dua (:)."
      ],
      "metadata": {
        "id": "tWvWfechYXZL"
      }
    },
    {
      "cell_type": "code",
      "source": [
        "judul = 'rumah hantu'\n",
        "\n",
        "\n",
        "print(judul[0:5])\n",
        "\n"
      ],
      "metadata": {
        "id": "FQU9EATCYnfG",
        "colab": {
          "base_uri": "https://localhost:8080/"
        },
        "outputId": "3992df15-9b4e-4ba0-e7ea-f5635cfcf5f8"
      },
      "execution_count": 10,
      "outputs": [
        {
          "output_type": "stream",
          "name": "stdout",
          "text": [
            "rumah\n"
          ]
        }
      ]
    },
    {
      "cell_type": "markdown",
      "source": [
        "# **Menghitung Panjang String**\n",
        "\n",
        "Kita bisa menghitung panjang string dengan fungsi bawaan python len()."
      ],
      "metadata": {
        "id": "z69KpNBQap01"
      }
    },
    {
      "cell_type": "code",
      "source": [
        "print(len('siti'))\n",
        "\n"
      ],
      "metadata": {
        "id": "TQPNFo51axgm",
        "colab": {
          "base_uri": "https://localhost:8080/"
        },
        "outputId": "070762fb-2d07-4e46-d49a-51285ff1d791"
      },
      "execution_count": 11,
      "outputs": [
        {
          "output_type": "stream",
          "name": "stdout",
          "text": [
            "4\n"
          ]
        }
      ]
    },
    {
      "cell_type": "markdown",
      "source": [
        "# **Memeriksa Karakter Awal String dengan string.startswith()**\n",
        "\n",
        "kita akan memeriksa apakah nomor telepon diawali ‘+62’ atau tidak.\n",
        "\n",
        "Untuk melakukannya kita bisa menggunakan fungsi startswith() yang tersedia pada objek atau tipe data string"
      ],
      "metadata": {
        "id": "xyrUXLYtbS4I"
      }
    },
    {
      "cell_type": "code",
      "source": [
        "nomor_telepon_1 ='083289655632'\n",
        "\n",
        "nomor_telepon_2 ='073289655632'\n",
        "\n",
        "nomor_telepon_3 = '+623289655632'\n",
        "\n",
        "kode_negara = '+62'\n",
        "\n",
        "print(nomor_telepon_1.startswith(kode_negara))\n",
        "print(nomor_telepon_2.startswith(kode_negara))\n",
        "print(nomor_telepon_3.startswith(kode_negara))"
      ],
      "metadata": {
        "id": "WbT32cd4bikb",
        "colab": {
          "base_uri": "https://localhost:8080/"
        },
        "outputId": "170df466-2069-4e0d-dfb8-a086b633999f"
      },
      "execution_count": 1,
      "outputs": [
        {
          "output_type": "stream",
          "name": "stdout",
          "text": [
            "False\n",
            "False\n",
            "True\n"
          ]
        }
      ]
    },
    {
      "cell_type": "markdown",
      "source": [
        "# **Memeriksa Karakter Akhir String dengan string.endswith()**\n",
        "\n",
        "Begitu pula untuk kebalikannya, kita bisa memanfaatkan fungsi endswith() yang terdapat pada objek string."
      ],
      "metadata": {
        "id": "EdeRqg26bwTq"
      }
    },
    {
      "cell_type": "code",
      "source": [
        "email_1 ='supriadi12@gmail.com'\n",
        "\n",
        "email_2 ='dedi72@id.com'\n",
        "\n",
        "\n",
        "print(email_1.endswith('gmail.com'))\n",
        "print(email_2.endswith('gmail.com'))"
      ],
      "metadata": {
        "id": "Rq4UUy0mb0n9",
        "colab": {
          "base_uri": "https://localhost:8080/"
        },
        "outputId": "5c8ef99c-ea0e-418a-e0ad-75135c51efdb"
      },
      "execution_count": 2,
      "outputs": [
        {
          "output_type": "stream",
          "name": "stdout",
          "text": [
            "True\n",
            "False\n"
          ]
        }
      ]
    },
    {
      "cell_type": "markdown",
      "source": [
        "# **Penggabungan String**\n",
        "\n",
        "Penggabungan string adalah teknik untuk menyusun atau mengkombinasikan beberapa string menjadi satu kesatuan. Hal ini juga biasa disebut sebagai string concatenation."
      ],
      "metadata": {
        "id": "dp6CRjG8cxqZ"
      }
    },
    {
      "cell_type": "code",
      "source": [
        "nama_depan ='Romi'\n",
        "\n",
        "nama_belakang ='Setiawan'\n",
        "\n",
        "\n",
        "nama_lengkap = nama_depan + nama_belakang\n",
        "\n",
        "print(nama_lengkap)"
      ],
      "metadata": {
        "id": "v0B6CLV5c3sQ",
        "colab": {
          "base_uri": "https://localhost:8080/"
        },
        "outputId": "cc7483ff-eb5e-4a4a-9a94-12c52bbc052a"
      },
      "execution_count": 3,
      "outputs": [
        {
          "output_type": "stream",
          "name": "stdout",
          "text": [
            "RomiSetiawan\n"
          ]
        }
      ]
    },
    {
      "cell_type": "markdown",
      "source": [
        "Karena spasi merupakan sebuah karakter, untuk menghasilkan nama_lengkap yang baik, anda harus menambahkannya dengan karakter spasi"
      ],
      "metadata": {
        "id": "X4dDpyygdMLQ"
      }
    },
    {
      "cell_type": "code",
      "source": [
        "print(nama_depan + '  ' + nama_belakang)"
      ],
      "metadata": {
        "id": "y56bNkeqdCgs",
        "colab": {
          "base_uri": "https://localhost:8080/"
        },
        "outputId": "8e5c0f0d-b587-4b49-9bf9-1d143595a1a1"
      },
      "execution_count": 5,
      "outputs": [
        {
          "output_type": "stream",
          "name": "stdout",
          "text": [
            "Romi  Setiawan\n"
          ]
        }
      ]
    },
    {
      "cell_type": "markdown",
      "source": [
        "**String + Non String**\n",
        "\n",
        "Ingat, bahwa anda hanya bisa menambahkan string dengan string juga. Jika anda berusaha menambahkan string dengan integer, double, atau boolean dan sebagainya, maka anda akan mendapatkan error."
      ],
      "metadata": {
        "id": "68h5DPlWdaGr"
      }
    },
    {
      "cell_type": "code",
      "source": [
        "print('Sekarang tahun: ' + str(2021))"
      ],
      "metadata": {
        "colab": {
          "base_uri": "https://localhost:8080/"
        },
        "id": "uS9useEhdeTp",
        "outputId": "97ff0325-290a-49e1-c3fc-ce51347c982b"
      },
      "execution_count": 6,
      "outputs": [
        {
          "output_type": "stream",
          "name": "stdout",
          "text": [
            "Sekarang tahun: 2021\n"
          ]
        }
      ]
    },
    {
      "cell_type": "markdown",
      "source": [
        "Solusinya adalah kita harus mengkonversi data integer menjadi string menggunakan fungsi str():"
      ],
      "metadata": {
        "id": "We5pkWxgdomf"
      }
    },
    {
      "cell_type": "code",
      "source": [
        "print('Sekarang tahun: ' + str(2002))"
      ],
      "metadata": {
        "id": "W9VeTdXBdrKx",
        "colab": {
          "base_uri": "https://localhost:8080/"
        },
        "outputId": "bd1855bc-2143-45ed-9bdc-7d508c97fac9"
      },
      "execution_count": 7,
      "outputs": [
        {
          "output_type": "stream",
          "name": "stdout",
          "text": [
            "Sekarang tahun: 2002\n"
          ]
        }
      ]
    },
    {
      "cell_type": "markdown",
      "source": [
        "# **Perkalian String**\n",
        "\n",
        "Selain melakukan string concatenation menggunakan operator tambah (+), kita juga bisa menggunakan operator kali ('*').\n",
        "\n",
        "Operator perkalian ini akan mengulang-ulang string yang dikalikan."
      ],
      "metadata": {
        "id": "XXbJqI1ed1VS"
      }
    },
    {
      "cell_type": "code",
      "source": [
        "print('----------')\n",
        "\n",
        "print('-' *70 )"
      ],
      "metadata": {
        "id": "hGdMHRysd3jG",
        "colab": {
          "base_uri": "https://localhost:8080/"
        },
        "outputId": "a856b4db-cce4-42df-80fe-d2609e1cc43c"
      },
      "execution_count": 8,
      "outputs": [
        {
          "output_type": "stream",
          "name": "stdout",
          "text": [
            "----------\n",
            "----------------------------------------------------------------------\n"
          ]
        }
      ]
    }
  ]
}